{
 "cells": [
  {
   "cell_type": "code",
   "execution_count": 1,
   "id": "fa325b1a-26cd-49a9-91ac-51c034f10315",
   "metadata": {},
   "outputs": [
    {
     "ename": "ModuleNotFoundError",
     "evalue": "No module named 'pandas'",
     "output_type": "error",
     "traceback": [
      "\u001b[1;31m---------------------------------------------------------------------------\u001b[0m",
      "\u001b[1;31mModuleNotFoundError\u001b[0m                       Traceback (most recent call last)",
      "Cell \u001b[1;32mIn[1], line 1\u001b[0m\n\u001b[1;32m----> 1\u001b[0m \u001b[38;5;28;01mimport\u001b[39;00m \u001b[38;5;21;01mpandas\u001b[39;00m \u001b[38;5;28;01mas\u001b[39;00m \u001b[38;5;21;01mpd\u001b[39;00m\n\u001b[0;32m      2\u001b[0m \u001b[38;5;28;01mimport\u001b[39;00m \u001b[38;5;21;01mnumpy\u001b[39;00m \u001b[38;5;28;01mas\u001b[39;00m \u001b[38;5;21;01mnp\u001b[39;00m\n\u001b[0;32m      4\u001b[0m \u001b[38;5;28;01mimport\u001b[39;00m \u001b[38;5;21;01mseaborn\u001b[39;00m \u001b[38;5;28;01mas\u001b[39;00m \u001b[38;5;21;01msns\u001b[39;00m\n",
      "\u001b[1;31mModuleNotFoundError\u001b[0m: No module named 'pandas'"
     ]
    }
   ],
   "source": [
    "import pandas as pd\n",
    "import numpy as np\n",
    "\n",
    "import seaborn as sns\n",
    "import matplotlib.pyplot as plt\n",
    "\n",
    "from sklearn.preprocessing import OneHotEncoder\n",
    "from sklearn.preprocessing import LabelEncoder\n",
    "from sklearn.preprocessing import StandardScaler\n",
    "\n",
    "from sklearn.model_selection import train_test_split\n",
    "from sklearn.model_selection import GridSearchCV\n",
    "\n",
    "from sklearn.dummy import DummyRegressor\n",
    "from sklearn.tree import DecisionTreeRegressor, export_graphviz\n",
    "from sklearn.linear_model import LinearRegression, Ridge\n",
    "from sklearn.ensemble import RandomForestRegressor\n",
    "\n",
    "from sklearn.metrics import mean_squared_error, mean_absolute_error\n",
    "\n",
    "import warnings"
   ]
  },
  {
   "cell_type": "code",
   "execution_count": 2,
   "id": "e58cc14c-2c2b-4f56-9ae2-c24e13b11013",
   "metadata": {},
   "outputs": [],
   "source": [
    "#Ignore depracation warnings for this notebook\n",
    "warnings.filterwarnings('ignore')"
   ]
  },
  {
   "cell_type": "code",
   "execution_count": 3,
   "id": "682e1bdf-bb8e-42f7-aa98-9983f414b986",
   "metadata": {},
   "outputs": [
    {
     "data": {
      "text/html": [
       "<div>\n",
       "<style scoped>\n",
       "    .dataframe tbody tr th:only-of-type {\n",
       "        vertical-align: middle;\n",
       "    }\n",
       "\n",
       "    .dataframe tbody tr th {\n",
       "        vertical-align: top;\n",
       "    }\n",
       "\n",
       "    .dataframe thead th {\n",
       "        text-align: right;\n",
       "    }\n",
       "</style>\n",
       "<table border=\"1\" class=\"dataframe\">\n",
       "  <thead>\n",
       "    <tr style=\"text-align: right;\">\n",
       "      <th></th>\n",
       "      <th>Country</th>\n",
       "      <th>Gender</th>\n",
       "      <th>Age</th>\n",
       "      <th>Time</th>\n",
       "      <th>Start Time</th>\n",
       "    </tr>\n",
       "  </thead>\n",
       "  <tbody>\n",
       "    <tr>\n",
       "      <th>0</th>\n",
       "      <td>KEN</td>\n",
       "      <td>M</td>\n",
       "      <td>30</td>\n",
       "      <td>123.533333</td>\n",
       "      <td>0.00</td>\n",
       "    </tr>\n",
       "    <tr>\n",
       "      <th>1</th>\n",
       "      <td>ETH</td>\n",
       "      <td>M</td>\n",
       "      <td>35</td>\n",
       "      <td>123.766667</td>\n",
       "      <td>0.00</td>\n",
       "    </tr>\n",
       "    <tr>\n",
       "      <th>2</th>\n",
       "      <td>ETH</td>\n",
       "      <td>M</td>\n",
       "      <td>35</td>\n",
       "      <td>126.150000</td>\n",
       "      <td>0.05</td>\n",
       "    </tr>\n",
       "    <tr>\n",
       "      <th>3</th>\n",
       "      <td>KEN</td>\n",
       "      <td>M</td>\n",
       "      <td>30</td>\n",
       "      <td>126.216667</td>\n",
       "      <td>0.00</td>\n",
       "    </tr>\n",
       "    <tr>\n",
       "      <th>4</th>\n",
       "      <td>KEN</td>\n",
       "      <td>M</td>\n",
       "      <td>30</td>\n",
       "      <td>126.233333</td>\n",
       "      <td>0.00</td>\n",
       "    </tr>\n",
       "  </tbody>\n",
       "</table>\n",
       "</div>"
      ],
      "text/plain": [
       "  Country Gender  Age        Time  Start Time\n",
       "0     KEN      M   30  123.533333        0.00\n",
       "1     ETH      M   35  123.766667        0.00\n",
       "2     ETH      M   35  126.150000        0.05\n",
       "3     KEN      M   30  126.216667        0.00\n",
       "4     KEN      M   30  126.233333        0.00"
      ]
     },
     "execution_count": 3,
     "metadata": {},
     "output_type": "execute_result"
    }
   ],
   "source": [
    "#Load the CSV file - it's already been scraped and preprocessed\n",
    "Results = pd.DataFrame\n",
    "Results = pd.read_table('Berlin_Marathon_2017_Results_Clean.csv', delimiter=',')\n",
    "\n",
    "Results = Results.astype({\"Age\": int, 'Time': float, 'Start Time': float})\n",
    "Results.head()\n"
   ]
  },
  {
   "cell_type": "code",
   "execution_count": 4,
   "id": "a290aa8a-ab2d-4bcb-80ed-92ae2bf97ab0",
   "metadata": {},
   "outputs": [
    {
     "data": {
      "text/plain": [
       "<Axes: xlabel='Gender', ylabel='count'>"
      ]
     },
     "execution_count": 4,
     "metadata": {},
     "output_type": "execute_result"
    },
    {
     "data": {
      "image/png": "[encoded data removed]",
      "text/plain": [
       "<Figure size 640x480 with 1 Axes>"
      ]
     },
     "metadata": {},
     "output_type": "display_data"
    }
   ],
   "source": [
    "sns.countplot(x='Gender', data=Results)"
   ]
  },
  {
   "cell_type": "code",
   "execution_count": 5,
   "id": "76aa213b-81ca-44d8-a27a-2645bebc3368",
   "metadata": {},
   "outputs": [
    {
     "name": "stdout",
     "output_type": "stream",
     "text": [
      "    Country   Time\n",
      "46      GER  15880\n",
      "45      GBR   2505\n",
      "130     USA   2026\n",
      "31      DEN   1712\n",
      "43      FRA   1466\n",
      "There are 135 countries represented\n",
      "    Country  Time\n",
      "127     UGA     1\n",
      "121     TOG     1\n",
      "10      BAR     1\n",
      "22      CMR     1\n",
      "23      COD     1\n",
      "27      CUB     1\n",
      "123     TRI     1\n",
      "133     ZAM     1\n",
      "28      CUW     1\n",
      "41      FIJ     1\n",
      "32      DMA     1\n",
      "119     TAN     1\n",
      "89      MYA     1\n",
      "44      FRO     1\n",
      "50      GUI     1\n",
      "51      GUY     1\n",
      "73      LAO     1\n",
      "107     SEN     1\n",
      "76      LIE     1\n",
      "83      MDV     1\n",
      "87      MLT     1\n",
      "103     QAT     1\n",
      "88      MTN     1\n",
      "0       AFG     1\n",
      "There are 24 countries with only one runner competing\n"
     ]
    }
   ],
   "source": [
    "Results_by_Country = Results.groupby('Country', as_index=False).count()[['Country', 'Time']]\n",
    "Results_by_Country = Results_by_Country.sort_values(by = ['Time'], ascending = False)\n",
    "print(Results_by_Country.head())\n",
    "print('There are ' + str(len(Results_by_Country)) + ' countries represented')\n",
    "\n",
    "Countries_with_one_Runner = Results_by_Country[Results_by_Country['Time'] == 1]\n",
    "print(Countries_with_one_Runner)\n",
    "print('There are ' + str(len(Countries_with_one_Runner)) + ' countries with only one runner competing')"
   ]
  },
  {
   "cell_type": "code",
   "execution_count": 6,
   "id": "890287a9-096c-4627-9b02-4168d707f0fc",
   "metadata": {},
   "outputs": [
    {
     "name": "stdout",
     "output_type": "stream",
     "text": [
      "    Start Minute  Time\n",
      "0            0.0  2116\n",
      "1            1.0  1724\n",
      "2            2.0  1622\n",
      "3            3.0  1578\n",
      "4            4.0  1474\n",
      "5            5.0  1249\n",
      "6            6.0   669\n",
      "7            7.0    65\n",
      "8            8.0    23\n",
      "9            9.0     4\n",
      "10          10.0     3\n",
      "11          20.0  1764\n",
      "12          21.0  1549\n",
      "13          22.0  1453\n",
      "14          23.0  1437\n",
      "15          24.0  1296\n",
      "16          25.0  1436\n",
      "17          26.0  1294\n",
      "18          27.0  1247\n",
      "19          28.0  1178\n",
      "20          29.0  1038\n",
      "21          30.0   659\n",
      "22          31.0    97\n",
      "23          32.0    20\n",
      "24          45.0  1745\n",
      "25          46.0  1389\n",
      "26          47.0  1271\n",
      "27          48.0  1317\n",
      "28          49.0  1219\n",
      "29          50.0  1244\n",
      "30          51.0  1168\n",
      "31          52.0  1082\n",
      "32          53.0  1079\n",
      "33          54.0  1074\n",
      "34          55.0   933\n",
      "35          56.0   606\n",
      "36          57.0    25\n",
      "37          58.0     3\n",
      "38          62.0     1\n"
     ]
    }
   ],
   "source": [
    "Results['Start Minute'] = np.floor(Results['Start Time'])\n",
    "Results_by_Start_Minute = Results.groupby('Start Minute', as_index=False).count()[['Start Minute', 'Time']]\n",
    "print(Results_by_Start_Minute)"
   ]
  },
  {
   "cell_type": "code",
   "execution_count": null,
   "id": "8794fb88",
   "metadata": {},
   "outputs": [],
   "source": []
  },
  {
   "cell_type": "code",
   "execution_count": 7,
   "id": "94de746b-bc1f-49bf-8a5e-b9cbc220f85b",
   "metadata": {},
   "outputs": [
    {
     "data": {
      "text/plain": [
       "<Axes: xlabel='Start Time'>"
      ]
     },
     "execution_count": 7,
     "metadata": {},
     "output_type": "execute_result"
    },
    {
     "data": {
      "image/png": "[encoded data removed]",
      "text/plain": [
       "<Figure size 640x480 with 1 Axes>"
      ]
     },
     "metadata": {},
     "output_type": "display_data"
    }
   ],
   "source": [
    "sns.distplot(Results['Start Time'], bins = 60, kde=False, rug=True)"
   ]
  },
  {
   "cell_type": "code",
   "execution_count": 8,
   "id": "96b6d4f9-2df8-493c-a6e7-d6e5bb373a8d",
   "metadata": {},
   "outputs": [
    {
     "name": "stdout",
     "output_type": "stream",
     "text": [
      "<class 'pandas.core.frame.DataFrame'>\n",
      "RangeIndex: 39151 entries, 0 to 39150\n",
      "Data columns (total 5 columns):\n",
      " #   Column               Non-Null Count  Dtype  \n",
      "---  ------               --------------  -----  \n",
      " 0   Country              39151 non-null  object \n",
      " 1   Gender               39151 non-null  object \n",
      " 2   Age                  39151 non-null  int32  \n",
      " 3   Time                 39151 non-null  float64\n",
      " 4   Adjusted Start Time  39151 non-null  float64\n",
      "dtypes: float64(2), int32(1), object(2)\n",
      "memory usage: 1.3+ MB\n",
      "None\n"
     ]
    },
    {
     "data": {
      "image/png": "[encoded data removed]",
      "text/plain": [
       "<Figure size 640x480 with 1 Axes>"
      ]
     },
     "metadata": {},
     "output_type": "display_data"
    }
   ],
   "source": [
    "def adj_start(x):\n",
    "    if x < 20:\n",
    "        return x\n",
    "    elif x < 45:\n",
    "        return x - 13\n",
    "    else:\n",
    "        return x - 27\n",
    "Results['Adjusted Start Time'] = Results['Start Time'].map(lambda x: adj_start(x))\n",
    "sns.distplot(Results['Adjusted Start Time'], bins = 60, kde=False, rug=True)\n",
    "\n",
    "Results = Results.drop('Start Time', axis = 1)\n",
    "Results = Results.drop('Start Minute', axis = 1)\n",
    "print(Results.info())"
   ]
  },
  {
   "cell_type": "code",
   "execution_count": 9,
   "id": "e1a56ebc-9263-4bab-a132-2a72de1716fb",
   "metadata": {},
   "outputs": [],
   "source": [
    "le_gender = LabelEncoder()\n",
    "Results['Gender'] = le_gender.fit_transform(Results['Gender'])\n",
    "\n",
    "ohe_country = OneHotEncoder(categories='auto')\n",
    "X = ohe_country.fit_transform(Results.Country.values.reshape(-1,1)).toarray()\n",
    "CountryOneHot = pd.DataFrame(X, columns = [\"Country_\"+str(int(i)) for i in range(X.shape[1])])\n",
    "Results = pd.concat([Results, CountryOneHot], axis=1)\n",
    "Results = Results.drop('Country', axis=1)"
   ]
  },
  {
   "cell_type": "code",
   "execution_count": 10,
   "id": "d7ba676e-715c-457a-a3e5-ac384b0b306a",
   "metadata": {},
   "outputs": [],
   "source": [
    "train_set, test_set = train_test_split(Results, test_size=.2, random_state=40)\n",
    "\n",
    "y_train, y_test = train_set['Time'], test_set['Time']\n",
    "X_train, X_test = train_set.drop('Time', axis=1), test_set.drop('Time', axis=1)"
   ]
  },
  {
   "cell_type": "code",
   "execution_count": 11,
   "id": "fedc2bc9-54fb-4fa4-9fd8-d12a8101008e",
   "metadata": {},
   "outputs": [],
   "source": [
    "standardScalerX = StandardScaler()\n",
    "standardScalerX.fit(X_train)\n",
    "X_train = standardScalerX.transform(X_train)\n",
    "X_test = standardScalerX.transform(X_test)"
   ]
  },
  {
   "cell_type": "code",
   "execution_count": 12,
   "id": "6b2aba3c-b061-4d53-a689-e87afbd89024",
   "metadata": {},
   "outputs": [
    {
     "name": "stdout",
     "output_type": "stream",
     "text": [
      "mean squared error error = 2115.2026126518654\n",
      "mean absolute error = 36.574535934873225\n"
     ]
    }
   ],
   "source": [
    "dummy = DummyRegressor()\n",
    "dummy.fit(X_train, y_train)\n",
    "y_test_dummy_pred = dummy.predict(X_test)\n",
    "mean_squared_error_dummy_predict = mean_squared_error(y_test, y_test_dummy_pred)\n",
    "mean_abs_error_dummy_predict = mean_absolute_error(y_test, y_test_dummy_pred)\n",
    "print('mean squared error error = ' + str(mean_squared_error_dummy_predict))\n",
    "print('mean absolute error = ' + str(mean_abs_error_dummy_predict))"
   ]
  },
  {
   "cell_type": "code",
   "execution_count": 13,
   "id": "b62daf81-2426-430e-80c6-9db09fa65cf3",
   "metadata": {},
   "outputs": [
    {
     "name": "stdout",
     "output_type": "stream",
     "text": [
      "{'alpha': 100}\n"
     ]
    }
   ],
   "source": [
    "ridge = Ridge()\n",
    "ridge_parameters = {'alpha': [.01,.1,1,10,100,200,1000]}\n",
    "clf = GridSearchCV(ridge, ridge_parameters, cv=5)\n",
    "clf.fit(X_train, y_train)\n",
    "print(clf.best_params_)"
   ]
  },
  {
   "cell_type": "code",
   "execution_count": 14,
   "id": "c2bb1f8e-194b-4e69-9302-3b47881bffc1",
   "metadata": {},
   "outputs": [
    {
     "name": "stdout",
     "output_type": "stream",
     "text": [
      "{'alpha': 150.01}\n"
     ]
    }
   ],
   "source": [
    "ridge = Ridge()\n",
    "ridge_parameters = {'alpha': [10.01, 30.01,50.01,70.01,90.01,110.01,130.01,150.01,170.01,190.01]}\n",
    "clf = GridSearchCV(ridge, ridge_parameters, cv=5)\n",
    "clf.fit(X_train, y_train)\n",
    "print(clf.best_params_)"
   ]
  },
  {
   "cell_type": "code",
   "execution_count": 15,
   "id": "b5325d2b-8d75-4e7d-9f68-eaa789099d40",
   "metadata": {},
   "outputs": [
    {
     "name": "stdout",
     "output_type": "stream",
     "text": [
      "mean squared error error = 959.0024602923387\n",
      "mean absolute error = 23.11751209759032\n"
     ]
    }
   ],
   "source": [
    "reg = Ridge(alpha=150)\n",
    "reg.fit(X_train, y_train)\n",
    "y_test_ridge_pred = reg.predict(X_test)\n",
    "mean_squared_error_ridge_predict = mean_squared_error(y_test, y_test_ridge_pred)\n",
    "mean_abs_error_ridge_predict = mean_absolute_error(y_test, y_test_ridge_pred)\n",
    "print('mean squared error error = ' + str(mean_squared_error_ridge_predict))\n",
    "print('mean absolute error = ' + str(mean_abs_error_ridge_predict))\n"
   ]
  },
  {
   "cell_type": "code",
   "execution_count": 16,
   "id": "9af01b86-739c-473a-9c16-d3c030564474",
   "metadata": {},
   "outputs": [
    {
     "name": "stdout",
     "output_type": "stream",
     "text": [
      "{'max_depth': 10, 'n_estimators': 80}\n"
     ]
    }
   ],
   "source": [
    "forest_cv = RandomForestRegressor(random_state = 40)\n",
    "forest_parameters = {'n_estimators': [5, 20, 50, 80], 'max_depth': [5, 10, 20]}\n",
    "clf_forest = GridSearchCV(forest_cv, forest_parameters, cv=5)\n",
    "clf_forest.fit(X_train, y_train)\n",
    "print(clf_forest.best_params_)"
   ]
  },
  {
   "cell_type": "code",
   "execution_count": 17,
   "id": "19feaa00-670a-4230-823b-4e18af937006",
   "metadata": {},
   "outputs": [
    {
     "name": "stdout",
     "output_type": "stream",
     "text": [
      "mean squared error error = 930.5481829880546\n",
      "mean absolute error = 22.54466463270873\n"
     ]
    }
   ],
   "source": [
    "forest = RandomForestRegressor(n_estimators = 80, max_depth = 10)\n",
    "forest.fit(X_train, y_train)\n",
    "y_test_forest_pred = forest.predict(X_test)\n",
    "mean_squared_error_forest_predict = mean_squared_error(y_test, y_test_forest_pred)\n",
    "mean_abs_error_forest_predict = mean_absolute_error(y_test, y_test_forest_pred)\n",
    "print('mean squared error error = ' + str(mean_squared_error_forest_predict))\n",
    "print('mean absolute error = ' + str(mean_abs_error_forest_predict))\n"
   ]
  },
  {
   "cell_type": "code",
   "execution_count": 20,
   "id": "a98e6027-c2f0-4491-85af-68cd22d73c84",
   "metadata": {},
   "outputs": [
    {
     "name": "stdout",
     "output_type": "stream",
     "text": [
      "\n",
      "\n",
      "Model score :  0.5642118463916896\n"
     ]
    }
   ],
   "source": [
    "score1 = reg.score(X_train, y_train) \n",
    "print(\"\\n\\nModel score : \", score1) "
   ]
  },
  {
   "cell_type": "code",
   "execution_count": 21,
   "id": "413d1dfa-ac0f-452c-9601-c3227486914f",
   "metadata": {},
   "outputs": [
    {
     "name": "stdout",
     "output_type": "stream",
     "text": [
      "\n",
      "\n",
      "Model score :  0.6363429244951523\n"
     ]
    }
   ],
   "source": [
    "score2 = forest.score(X_train, y_train) \n",
    "print(\"\\n\\nModel score : \", score2) "
   ]
  },
  {
   "cell_type": "code",
   "execution_count": 22,
   "id": "6853bc35-0f1f-4ed5-9aa9-691a47b10d67",
   "metadata": {},
   "outputs": [
    {
     "name": "stdout",
     "output_type": "stream",
     "text": [
      "\n",
      "\n",
      "Model score :  0.0\n"
     ]
    }
   ],
   "source": [
    "score3 = dummy.score(X_train, y_train) \n",
    "print(\"\\n\\nModel score : \", score3) "
   ]
  },
  {
   "cell_type": "code",
   "execution_count": 23,
   "id": "3e461307-2215-4520-ab8f-cbf4beb07f5d",
   "metadata": {},
   "outputs": [
    {
     "data": {
      "image/png": "[encoded data removed]",
      "text/plain": [
       "<Figure size 1000x600 with 1 Axes>"
      ]
     },
     "metadata": {},
     "output_type": "display_data"
    }
   ],
   "source": [
    "models = ['dummy', 'reg', 'forest']\n",
    "\n",
    "# Scores of the models\n",
    "scores = [score3, score1, score2] \n",
    "\n",
    "# Plotting the bar graph\n",
    "plt.figure(figsize=(10, 6))\n",
    "plt.bar(models, scores, color=['blue', 'green', 'red'])\n",
    "\n",
    "# Adding labels and title\n",
    "plt.xlabel('Models')\n",
    "plt.ylabel('Scores')\n",
    "plt.title('Performance of ML Models')\n",
    "plt.ylim(0, 1)  # Adjust the y-axis limits if needed\n",
    "plt.grid(axis='y')  # Add gridlines for better visualization\n",
    "plt.show()"
   ]
  },
  {
   "cell_type": "code",
   "execution_count": null,
   "id": "2334b058-f77e-4c7b-86eb-c501035c6432",
   "metadata": {},
   "outputs": [],
   "source": []
  }
 ],
 "metadata": {
  "kernelspec": {
   "display_name": "Python 3 (ipykernel)",
   "language": "python",
   "name": "python3"
  },
  "language_info": {
   "codemirror_mode": {
    "name": "ipython",
    "version": 3
   },
   "file_extension": ".py",
   "mimetype": "text/x-python",
   "name": "python",
   "nbconvert_exporter": "python",
   "pygments_lexer": "ipython3",
   "version": "3.12.2"
  }
 },
 "nbformat": 4,
 "nbformat_minor": 5
}
