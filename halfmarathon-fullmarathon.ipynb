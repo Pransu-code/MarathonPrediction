{
 "cells": [
  {
   "cell_type": "code",
   "execution_count": 113,
   "id": "1784f383-e167-4041-8bd7-9ac6958e9d7a",
   "metadata": {},
   "outputs": [],
   "source": [
    "import math\n",
    "import numpy as np\n",
    "import pandas as pd\n",
    "import matplotlib.pyplot as plt\n",
    "import seaborn as sns\n",
    "import xgboost as xgb\n",
    "from sklearn.model_selection import train_test_split\n",
    "from sklearn.preprocessing import LabelEncoder\n",
    "from sklearn.ensemble import RandomForestRegressor\n",
    "from sklearn.linear_model import LinearRegression\n",
    "from sklearn import metrics\n"
   ]
  },
  {
   "cell_type": "code",
   "execution_count": 121,
   "id": "53de9f96-06d2-4d31-a001-712669d15d9c",
   "metadata": {},
   "outputs": [
    {
     "data": {
      "text/html": [
       "<div>\n",
       "<style scoped>\n",
       "    .dataframe tbody tr th:only-of-type {\n",
       "        vertical-align: middle;\n",
       "    }\n",
       "\n",
       "    .dataframe tbody tr th {\n",
       "        vertical-align: top;\n",
       "    }\n",
       "\n",
       "    .dataframe thead th {\n",
       "        text-align: right;\n",
       "    }\n",
       "</style>\n",
       "<table border=\"1\" class=\"dataframe\">\n",
       "  <thead>\n",
       "    <tr style=\"text-align: right;\">\n",
       "      <th></th>\n",
       "      <th>place</th>\n",
       "      <th>age_class</th>\n",
       "      <th>place_in_class</th>\n",
       "      <th>bib</th>\n",
       "      <th>name</th>\n",
       "      <th>sex</th>\n",
       "      <th>nation</th>\n",
       "      <th>team</th>\n",
       "      <th>official_time</th>\n",
       "      <th>net_time</th>\n",
       "      <th>birth_date</th>\n",
       "      <th>event</th>\n",
       "      <th>event_year</th>\n",
       "      <th>distance</th>\n",
       "    </tr>\n",
       "  </thead>\n",
       "  <tbody>\n",
       "    <tr>\n",
       "      <th>0</th>\n",
       "      <td>1</td>\n",
       "      <td>M20</td>\n",
       "      <td>1</td>\n",
       "      <td>1</td>\n",
       "      <td>Rui Pedro Silva</td>\n",
       "      <td>M</td>\n",
       "      <td>PT</td>\n",
       "      <td>Individual</td>\n",
       "      <td>0 days 00:29:56.000000000</td>\n",
       "      <td>0 days 00:29:53.000000000</td>\n",
       "      <td>01/01/1992</td>\n",
       "      <td>dia-do-pai</td>\n",
       "      <td>2012</td>\n",
       "      <td>10</td>\n",
       "    </tr>\n",
       "    <tr>\n",
       "      <th>1</th>\n",
       "      <td>2</td>\n",
       "      <td>M20</td>\n",
       "      <td>2</td>\n",
       "      <td>184</td>\n",
       "      <td>Paulo Gomes</td>\n",
       "      <td>M</td>\n",
       "      <td>PT</td>\n",
       "      <td>Individual</td>\n",
       "      <td>0 days 00:29:58.000000000</td>\n",
       "      <td>0 days 00:29:58.000000000</td>\n",
       "      <td>01/01/1992</td>\n",
       "      <td>dia-do-pai</td>\n",
       "      <td>2012</td>\n",
       "      <td>10</td>\n",
       "    </tr>\n",
       "    <tr>\n",
       "      <th>2</th>\n",
       "      <td>3</td>\n",
       "      <td>M20</td>\n",
       "      <td>3</td>\n",
       "      <td>3</td>\n",
       "      <td>Bruno Albuquerque</td>\n",
       "      <td>M</td>\n",
       "      <td>PT</td>\n",
       "      <td>Sporting C P</td>\n",
       "      <td>0 days 00:30:20.000000000</td>\n",
       "      <td>0 days 00:30:18.000000000</td>\n",
       "      <td>01/01/1992</td>\n",
       "      <td>dia-do-pai</td>\n",
       "      <td>2012</td>\n",
       "      <td>10</td>\n",
       "    </tr>\n",
       "    <tr>\n",
       "      <th>3</th>\n",
       "      <td>4</td>\n",
       "      <td>M20</td>\n",
       "      <td>4</td>\n",
       "      <td>84</td>\n",
       "      <td>Manuel Sousa</td>\n",
       "      <td>M</td>\n",
       "      <td>PT</td>\n",
       "      <td>C I Argoncilhe</td>\n",
       "      <td>0 days 00:31:27.000000000</td>\n",
       "      <td>0 days 00:31:25.000000000</td>\n",
       "      <td>01/04/1972</td>\n",
       "      <td>dia-do-pai</td>\n",
       "      <td>2012</td>\n",
       "      <td>10</td>\n",
       "    </tr>\n",
       "    <tr>\n",
       "      <th>4</th>\n",
       "      <td>5</td>\n",
       "      <td>M20</td>\n",
       "      <td>5</td>\n",
       "      <td>4</td>\n",
       "      <td>Luis Mendes</td>\n",
       "      <td>M</td>\n",
       "      <td>PT</td>\n",
       "      <td>Cyclones Sanitop</td>\n",
       "      <td>0 days 00:31:46.000000000</td>\n",
       "      <td>0 days 00:31:45.000000000</td>\n",
       "      <td>01/01/1992</td>\n",
       "      <td>dia-do-pai</td>\n",
       "      <td>2012</td>\n",
       "      <td>10</td>\n",
       "    </tr>\n",
       "  </tbody>\n",
       "</table>\n",
       "</div>"
      ],
      "text/plain": [
       "   place age_class  place_in_class  bib               name sex nation  \\\n",
       "0      1       M20               1    1    Rui Pedro Silva   M     PT   \n",
       "1      2       M20               2  184        Paulo Gomes   M     PT   \n",
       "2      3       M20               3    3  Bruno Albuquerque   M     PT   \n",
       "3      4       M20               4   84       Manuel Sousa   M     PT   \n",
       "4      5       M20               5    4        Luis Mendes   M     PT   \n",
       "\n",
       "               team              official_time                   net_time  \\\n",
       "0        Individual  0 days 00:29:56.000000000  0 days 00:29:53.000000000   \n",
       "1        Individual  0 days 00:29:58.000000000  0 days 00:29:58.000000000   \n",
       "2      Sporting C P  0 days 00:30:20.000000000  0 days 00:30:18.000000000   \n",
       "3    C I Argoncilhe  0 days 00:31:27.000000000  0 days 00:31:25.000000000   \n",
       "4  Cyclones Sanitop  0 days 00:31:46.000000000  0 days 00:31:45.000000000   \n",
       "\n",
       "   birth_date       event  event_year  distance  \n",
       "0  01/01/1992  dia-do-pai        2012        10  \n",
       "1  01/01/1992  dia-do-pai        2012        10  \n",
       "2  01/01/1992  dia-do-pai        2012        10  \n",
       "3  01/04/1972  dia-do-pai        2012        10  \n",
       "4  01/01/1992  dia-do-pai        2012        10  "
      ]
     },
     "execution_count": 121,
     "metadata": {},
     "output_type": "execute_result"
    }
   ],
   "source": [
    "races = pd.read_csv('all_races.csv', nrows = 10000)\n",
    "races.head()"
   ]
  },
  {
   "cell_type": "code",
   "execution_count": 122,
   "id": "902162f6-b7ae-4cc6-b6d1-43529f0ed819",
   "metadata": {},
   "outputs": [],
   "source": [
    "def clean_data(df):\n",
    "    # fix one missing net time\n",
    "    flt = (df.place==1)&(df.event=='family-race')&(df.event_year==2015)\n",
    "    df.loc[flt, 'net_time'] = df[flt].official_time\n",
    "    df.official_time = pd.to_timedelta(df.official_time)\n",
    "    # many cases of missing net time\n",
    "    df.net_time = np.where(df.net_time=='-', np.nan, df.net_time)\n",
    "    df.net_time = pd.to_timedelta(df.net_time)\n",
    "    # extract the date\n",
    "    df['birth_year'] = df['birth_date'].str[6:].astype(int)\n",
    "    return df\n",
    "    \n",
    "def input_missing_event_net_time(df):\n",
    "    # if the runner is on top10, set missing net time equal to the official time\n",
    "    df.net_time = np.where((df.net_time.isnull())&(df.place <= 10), \n",
    "                            df.official_time, df.net_time)\n",
    "    df['delay_time'] = df['official_time'].dt.seconds - df['net_time'].dt.seconds\n",
    "    df['delay_time_mean'] = df.delay_time.rolling(window=10, min_periods=5).mean()\n",
    "    df['net_time_mean_sec'] = df['official_time'].dt.seconds - df['delay_time_mean']\n",
    "    df['net_time'] = np.where(df.net_time.isnull(),\n",
    "                            pd.to_timedelta(df.net_time_mean_sec, unit='s'), \n",
    "                            df.net_time)\n",
    "    df = df.drop(['net_time_mean_sec','delay_time_mean','delay_time'], axis=1)\n",
    "    assert not (df.official_time < df.net_time).any() \n",
    "    assert not df.net_time.isnull().any() \n",
    "    return df\n",
    "\n",
    "def add_features(df):\n",
    "    df['pace'] = df.net_time / df.distance\n",
    "    return df"
   ]
  },
  {
   "cell_type": "code",
   "execution_count": 123,
   "id": "f6e9b951-02a0-4705-8583-8a3880e66c4d",
   "metadata": {},
   "outputs": [],
   "source": [
    "races = clean_data(races)\n",
    "races = races.groupby(['event','event_year']).apply(input_missing_event_net_time)\n",
    "races = add_features(races)"
   ]
  },
  {
   "cell_type": "code",
   "execution_count": 124,
   "id": "c7bcbb2b-e699-4af8-900b-9fa0c45ad640",
   "metadata": {},
   "outputs": [],
   "source": [
    "# using combination of name and birth date to identify unique runners\n",
    "races['birth_date_name'] = races['birth_date'] + '_' + races['name']"
   ]
  },
  {
   "cell_type": "code",
   "execution_count": 125,
   "id": "bade929b-8171-499c-88b8-8c2dcc125fab",
   "metadata": {},
   "outputs": [
    {
     "data": {
      "text/plain": [
       "set()"
      ]
     },
     "execution_count": 125,
     "metadata": {},
     "output_type": "execute_result"
    }
   ],
   "source": [
    "# which years have both marathon and half marathon data\n",
    "years = set(races[races.event=='maratona'].event_year.unique()) & \\\n",
    "set(races[races.event=='meia_maratona'].event_year.unique())\n",
    "years"
   ]
  },
  {
   "cell_type": "code",
   "execution_count": 126,
   "id": "dfa47049-877c-45a4-be65-5c4de0d2dd6c",
   "metadata": {},
   "outputs": [],
   "source": [
    "races_train = pd.DataFrame()\n",
    "for year in years:\n",
    "    marathon_runners = races[(races.event_year==year)&(races.event=='maratona')].birth_date_name\n",
    "    half_events = races[(races.event_year==year)&(races.event=='meia_maratona')&(\n",
    "                        races.birth_date_name.isin(marathon_runners))]\n",
    "    half_and_marathon_runners = half_events.birth_date_name.values\n",
    "    concat_df = races[(races.event_year==year)&(\n",
    "                                    races.event.isin(['maratona', 'meia_maratona']))&(\n",
    "                                    races.birth_date_name.isin(half_and_marathon_runners))]\n",
    "    races_train = pd.concat([races_train, concat_df])\n",
    "   "
   ]
  },
  {
   "cell_type": "code",
   "execution_count": 127,
   "id": "bbce20d4-4473-45ec-b1eb-b5c59b5963f7",
   "metadata": {},
   "outputs": [],
   "source": [
    "races_train = pd.DataFrame()\n",
    "for year in years:\n",
    "    marathon_runners = races[(races.event_year==year)&(races.event=='maratona')].birth_date_name\n",
    "    half_events = races[(races.event_year==year)&(races.event=='meia_maratona')&(\n",
    "                        races.birth_date_name.isin(marathon_runners))]\n",
    "    half_and_marathon_runners = half_events.birth_date_name.values\n",
    "    races_train = races_train.append(races[(races.event_year==year)&(\n",
    "                                    races.event.isin(['maratona','meia_maratona']))&(\n",
    "                                    races.birth_date_name.isin(half_and_marathon_runners))])"
   ]
  },
  {
   "cell_type": "code",
   "execution_count": 130,
   "id": "4835c427-6f99-4a45-a6e6-6b97a028c489",
   "metadata": {},
   "outputs": [
    {
     "ename": "AttributeError",
     "evalue": "'DataFrame' object has no attribute 'age_class'",
     "output_type": "error",
     "traceback": [
      "\u001b[1;31m---------------------------------------------------------------------------\u001b[0m",
      "\u001b[1;31mAttributeError\u001b[0m                            Traceback (most recent call last)",
      "\u001b[1;32m~\\AppData\\Local\\Temp\\ipykernel_14108\\1740319178.py\u001b[0m in \u001b[0;36m?\u001b[1;34m()\u001b[0m\n\u001b[1;32m----> 1\u001b[1;33m \u001b[0mraces_train\u001b[0m\u001b[1;33m[\u001b[0m\u001b[1;34m'age_class'\u001b[0m\u001b[1;33m]\u001b[0m \u001b[1;33m=\u001b[0m \u001b[0mraces_train\u001b[0m\u001b[1;33m.\u001b[0m\u001b[0mage_class\u001b[0m\u001b[1;33m.\u001b[0m\u001b[0mfillna\u001b[0m\u001b[1;33m(\u001b[0m\u001b[1;34m'NA'\u001b[0m\u001b[1;33m)\u001b[0m\u001b[1;33m\u001b[0m\u001b[1;33m\u001b[0m\u001b[0m\n\u001b[0m\u001b[0;32m      2\u001b[0m \u001b[1;31m# encode categorical variable\u001b[0m\u001b[1;33m\u001b[0m\u001b[1;33m\u001b[0m\u001b[0m\n\u001b[0;32m      3\u001b[0m \u001b[0mle\u001b[0m \u001b[1;33m=\u001b[0m \u001b[0mLabelEncoder\u001b[0m\u001b[1;33m(\u001b[0m\u001b[1;33m)\u001b[0m\u001b[1;33m\u001b[0m\u001b[1;33m\u001b[0m\u001b[0m\n\u001b[0;32m      4\u001b[0m \u001b[0mle\u001b[0m\u001b[1;33m.\u001b[0m\u001b[0mfit\u001b[0m\u001b[1;33m(\u001b[0m\u001b[0mraces_train\u001b[0m\u001b[1;33m.\u001b[0m\u001b[0mage_class\u001b[0m\u001b[1;33m.\u001b[0m\u001b[0mvalues\u001b[0m\u001b[1;33m)\u001b[0m\u001b[1;33m\u001b[0m\u001b[1;33m\u001b[0m\u001b[0m\n",
      "\u001b[1;32m~\\anaconda3\\Lib\\site-packages\\pandas\\core\\generic.py\u001b[0m in \u001b[0;36m?\u001b[1;34m(self, name)\u001b[0m\n\u001b[0;32m   6200\u001b[0m             \u001b[1;32mand\u001b[0m \u001b[0mname\u001b[0m \u001b[1;32mnot\u001b[0m \u001b[1;32min\u001b[0m \u001b[0mself\u001b[0m\u001b[1;33m.\u001b[0m\u001b[0m_accessors\u001b[0m\u001b[1;33m\u001b[0m\u001b[1;33m\u001b[0m\u001b[0m\n\u001b[0;32m   6201\u001b[0m             \u001b[1;32mand\u001b[0m \u001b[0mself\u001b[0m\u001b[1;33m.\u001b[0m\u001b[0m_info_axis\u001b[0m\u001b[1;33m.\u001b[0m\u001b[0m_can_hold_identifiers_and_holds_name\u001b[0m\u001b[1;33m(\u001b[0m\u001b[0mname\u001b[0m\u001b[1;33m)\u001b[0m\u001b[1;33m\u001b[0m\u001b[1;33m\u001b[0m\u001b[0m\n\u001b[0;32m   6202\u001b[0m         ):\n\u001b[0;32m   6203\u001b[0m             \u001b[1;32mreturn\u001b[0m \u001b[0mself\u001b[0m\u001b[1;33m[\u001b[0m\u001b[0mname\u001b[0m\u001b[1;33m]\u001b[0m\u001b[1;33m\u001b[0m\u001b[1;33m\u001b[0m\u001b[0m\n\u001b[1;32m-> 6204\u001b[1;33m         \u001b[1;32mreturn\u001b[0m \u001b[0mobject\u001b[0m\u001b[1;33m.\u001b[0m\u001b[0m__getattribute__\u001b[0m\u001b[1;33m(\u001b[0m\u001b[0mself\u001b[0m\u001b[1;33m,\u001b[0m \u001b[0mname\u001b[0m\u001b[1;33m)\u001b[0m\u001b[1;33m\u001b[0m\u001b[1;33m\u001b[0m\u001b[0m\n\u001b[0m",
      "\u001b[1;31mAttributeError\u001b[0m: 'DataFrame' object has no attribute 'age_class'"
     ]
    }
   ],
   "source": [
    "races_train['age_class'] = races_train.age_class.fillna('NA')\n",
    "# encode categorical variable\n",
    "le = LabelEncoder()\n",
    "le.fit(races_train.age_class.values)\n",
    "races_train['age_class'] = le.transform(races_train.age_class.values)\n",
    "# races_train = pd.merge(marathon, half, on=['event_year','birth_date_name'], how='left')\n",
    "# races_train.head(2)"
   ]
  },
  {
   "cell_type": "code",
   "execution_count": 131,
   "id": "faa46051-ee5f-478f-af50-a9a06403a29c",
   "metadata": {},
   "outputs": [
    {
     "ename": "KeyError",
     "evalue": "\"None of [Index(['age_class', 'half_net_time'], dtype='object')] are in the [columns]\"",
     "output_type": "error",
     "traceback": [
      "\u001b[1;31m---------------------------------------------------------------------------\u001b[0m",
      "\u001b[1;31mKeyError\u001b[0m                                  Traceback (most recent call last)",
      "Cell \u001b[1;32mIn[131], line 1\u001b[0m\n\u001b[1;32m----> 1\u001b[0m x_train, x_test, y_train, y_test \u001b[38;5;241m=\u001b[39m train_test_split(races_train[[\u001b[38;5;124m'\u001b[39m\u001b[38;5;124mage_class\u001b[39m\u001b[38;5;124m'\u001b[39m,\u001b[38;5;124m'\u001b[39m\u001b[38;5;124mhalf_net_time\u001b[39m\u001b[38;5;124m'\u001b[39m]]\u001b[38;5;241m.\u001b[39mvalues,\n\u001b[0;32m      2\u001b[0m                          races_train\u001b[38;5;241m.\u001b[39mmarathon_net_time\u001b[38;5;241m.\u001b[39mvalues, test_size\u001b[38;5;241m=\u001b[39m\u001b[38;5;241m0.25\u001b[39m, random_state\u001b[38;5;241m=\u001b[39m\u001b[38;5;241m42\u001b[39m)\n",
      "File \u001b[1;32m~\\anaconda3\\Lib\\site-packages\\pandas\\core\\frame.py:3899\u001b[0m, in \u001b[0;36mDataFrame.__getitem__\u001b[1;34m(self, key)\u001b[0m\n\u001b[0;32m   3897\u001b[0m     \u001b[38;5;28;01mif\u001b[39;00m is_iterator(key):\n\u001b[0;32m   3898\u001b[0m         key \u001b[38;5;241m=\u001b[39m \u001b[38;5;28mlist\u001b[39m(key)\n\u001b[1;32m-> 3899\u001b[0m     indexer \u001b[38;5;241m=\u001b[39m \u001b[38;5;28mself\u001b[39m\u001b[38;5;241m.\u001b[39mcolumns\u001b[38;5;241m.\u001b[39m_get_indexer_strict(key, \u001b[38;5;124m\"\u001b[39m\u001b[38;5;124mcolumns\u001b[39m\u001b[38;5;124m\"\u001b[39m)[\u001b[38;5;241m1\u001b[39m]\n\u001b[0;32m   3901\u001b[0m \u001b[38;5;66;03m# take() does not accept boolean indexers\u001b[39;00m\n\u001b[0;32m   3902\u001b[0m \u001b[38;5;28;01mif\u001b[39;00m \u001b[38;5;28mgetattr\u001b[39m(indexer, \u001b[38;5;124m\"\u001b[39m\u001b[38;5;124mdtype\u001b[39m\u001b[38;5;124m\"\u001b[39m, \u001b[38;5;28;01mNone\u001b[39;00m) \u001b[38;5;241m==\u001b[39m \u001b[38;5;28mbool\u001b[39m:\n",
      "File \u001b[1;32m~\\anaconda3\\Lib\\site-packages\\pandas\\core\\indexes\\base.py:6115\u001b[0m, in \u001b[0;36mIndex._get_indexer_strict\u001b[1;34m(self, key, axis_name)\u001b[0m\n\u001b[0;32m   6112\u001b[0m \u001b[38;5;28;01melse\u001b[39;00m:\n\u001b[0;32m   6113\u001b[0m     keyarr, indexer, new_indexer \u001b[38;5;241m=\u001b[39m \u001b[38;5;28mself\u001b[39m\u001b[38;5;241m.\u001b[39m_reindex_non_unique(keyarr)\n\u001b[1;32m-> 6115\u001b[0m \u001b[38;5;28mself\u001b[39m\u001b[38;5;241m.\u001b[39m_raise_if_missing(keyarr, indexer, axis_name)\n\u001b[0;32m   6117\u001b[0m keyarr \u001b[38;5;241m=\u001b[39m \u001b[38;5;28mself\u001b[39m\u001b[38;5;241m.\u001b[39mtake(indexer)\n\u001b[0;32m   6118\u001b[0m \u001b[38;5;28;01mif\u001b[39;00m \u001b[38;5;28misinstance\u001b[39m(key, Index):\n\u001b[0;32m   6119\u001b[0m     \u001b[38;5;66;03m# GH 42790 - Preserve name from an Index\u001b[39;00m\n",
      "File \u001b[1;32m~\\anaconda3\\Lib\\site-packages\\pandas\\core\\indexes\\base.py:6176\u001b[0m, in \u001b[0;36mIndex._raise_if_missing\u001b[1;34m(self, key, indexer, axis_name)\u001b[0m\n\u001b[0;32m   6174\u001b[0m     \u001b[38;5;28;01mif\u001b[39;00m use_interval_msg:\n\u001b[0;32m   6175\u001b[0m         key \u001b[38;5;241m=\u001b[39m \u001b[38;5;28mlist\u001b[39m(key)\n\u001b[1;32m-> 6176\u001b[0m     \u001b[38;5;28;01mraise\u001b[39;00m \u001b[38;5;167;01mKeyError\u001b[39;00m(\u001b[38;5;124mf\u001b[39m\u001b[38;5;124m\"\u001b[39m\u001b[38;5;124mNone of [\u001b[39m\u001b[38;5;132;01m{\u001b[39;00mkey\u001b[38;5;132;01m}\u001b[39;00m\u001b[38;5;124m] are in the [\u001b[39m\u001b[38;5;132;01m{\u001b[39;00maxis_name\u001b[38;5;132;01m}\u001b[39;00m\u001b[38;5;124m]\u001b[39m\u001b[38;5;124m\"\u001b[39m)\n\u001b[0;32m   6178\u001b[0m not_found \u001b[38;5;241m=\u001b[39m \u001b[38;5;28mlist\u001b[39m(ensure_index(key)[missing_mask\u001b[38;5;241m.\u001b[39mnonzero()[\u001b[38;5;241m0\u001b[39m]]\u001b[38;5;241m.\u001b[39munique())\n\u001b[0;32m   6179\u001b[0m \u001b[38;5;28;01mraise\u001b[39;00m \u001b[38;5;167;01mKeyError\u001b[39;00m(\u001b[38;5;124mf\u001b[39m\u001b[38;5;124m\"\u001b[39m\u001b[38;5;132;01m{\u001b[39;00mnot_found\u001b[38;5;132;01m}\u001b[39;00m\u001b[38;5;124m not in index\u001b[39m\u001b[38;5;124m\"\u001b[39m)\n",
      "\u001b[1;31mKeyError\u001b[0m: \"None of [Index(['age_class', 'half_net_time'], dtype='object')] are in the [columns]\""
     ]
    }
   ],
   "source": [
    "x_train, x_test, y_train, y_test = train_test_split(races_train[['age_class','half_net_time']].values,\n",
    "                         races_train.marathon_net_time.values, test_size=0.25, random_state=42)"
   ]
  },
  {
   "cell_type": "code",
   "execution_count": null,
   "id": "4aeae7f4-07ee-4439-ab6c-dd47ccd7aa83",
   "metadata": {},
   "outputs": [],
   "source": [
    "lr = LinearRegression()\n",
    "lr.fit(x_train[:,1].reshape(-1,1),y_train) \n",
    "ypred = lr.predict(x_test[:,1].reshape(-1,1))\n",
    "metrics.mean_absolute_error(y_test, ypred)"
   ]
  },
  {
   "cell_type": "code",
   "execution_count": null,
   "id": "44c0ba1e-1410-4dfa-9f11-abc138266777",
   "metadata": {},
   "outputs": [],
   "source": [
    "x = [t for t in range(80,140)]\n",
    "yval = [lr.predict([[t]])[0] for t in x]\n",
    "plt.scatter(races_train.half_net_time.values, races_train.marathon_net_time.values, alpha=0.1)\n",
    "plt.plot(x, yval, color='red')\n",
    "plt.xlabel('Half marathon net time (min)')\n",
    "plt.ylabel('Marathon net time (min)')\n",
    "plt.title('Model predictions');"
   ]
  },
  {
   "cell_type": "code",
   "execution_count": null,
   "id": "4096a550-c88f-4aa0-98bd-08d61d6c5456",
   "metadata": {},
   "outputs": [],
   "source": [
    "quad_x_train = np.array([x_train[:,1], x_train[:,1]**2]).T\n",
    "lr.fit(quad_x_train, y_train) \n",
    "quad_x_test = np.array([x_test[:,1], x_test[:,1]**2]).T\n",
    "ypred = lr.predict(quad_x_test)\n",
    "metrics.mean_absolute_error(y_test, ypred)"
   ]
  },
  {
   "cell_type": "code",
   "execution_count": null,
   "id": "5391b5d8-5c9e-4f67-b280-67b0120688c5",
   "metadata": {},
   "outputs": [],
   "source": [
    "x = [t for t in range(80,140)]\n",
    "yval = [lr.predict([[t, t**2]])[0] for t in x]\n",
    "plt.scatter(races_train.half_net_time.values, races_train.marathon_net_time.values, alpha=0.1)\n",
    "plt.plot(x, yval, color='red')\n",
    "plt.xlabel('Half marathon net time (min)')\n",
    "plt.ylabel('Marathon net time (min)')\n",
    "plt.title('Model predictions (quadratic model)');\n"
   ]
  },
  {
   "cell_type": "code",
   "execution_count": 48,
   "id": "fe886d1e-5193-48d9-a10d-6b86f0d9ce0c",
   "metadata": {},
   "outputs": [
    {
     "data": {
      "text/plain": [
       "'1h 42m'"
      ]
     },
     "execution_count": 48,
     "metadata": {},
     "output_type": "execute_result"
    }
   ],
   "source": [
    "pred = lr.predict([[128, 128**2]])[0]\n",
    "'{:1.0f}h {:2.0f}m'.format(*divmod(pred, 60))"
   ]
  },
  {
   "cell_type": "code",
   "execution_count": 49,
   "id": "c28fa48c-00b0-44ed-810f-e161bb601b0a",
   "metadata": {},
   "outputs": [
    {
     "data": {
      "text/plain": [
       "'1h 32m'"
      ]
     },
     "execution_count": 49,
     "metadata": {},
     "output_type": "execute_result"
    }
   ],
   "source": [
    "pred = lr.predict([[108, 108**2]])[0]\n",
    "'{:1.0f}h {:2.0f}m'.format(*divmod(pred, 60))"
   ]
  },
  {
   "cell_type": "markdown",
   "id": "9bd9fe8b-535c-47fc-9dc4-8a8f7e50f48d",
   "metadata": {},
   "source": [
    "Gradiant Boosting Machine\n"
   ]
  },
  {
   "cell_type": "code",
   "execution_count": 50,
   "id": "e5a10dc6-c39e-41ad-96e7-3b8d12c8d468",
   "metadata": {},
   "outputs": [],
   "source": [
    "model = xgb.XGBRegressor(max_depth=3, learning_rate=0.02, n_estimators=300,\n",
    "                        random_state=42)\n"
   ]
  },
  {
   "cell_type": "code",
   "execution_count": 51,
   "id": "20b6375a-a182-44c6-9bae-37f552fcda05",
   "metadata": {},
   "outputs": [
    {
     "name": "stderr",
     "output_type": "stream",
     "text": [
      "C:\\Users\\Pransu\\anaconda3\\Lib\\site-packages\\xgboost\\sklearn.py:889: UserWarning: `eval_metric` in `fit` method is deprecated for better compatibility with scikit-learn, use `eval_metric` in constructor or`set_params` instead.\n",
      "  warnings.warn(\n",
      "C:\\Users\\Pransu\\anaconda3\\Lib\\site-packages\\xgboost\\sklearn.py:889: UserWarning: `early_stopping_rounds` in `fit` method is deprecated for better compatibility with scikit-learn, use `early_stopping_rounds` in constructor or`set_params` instead.\n",
      "  warnings.warn(\n"
     ]
    },
    {
     "data": {
      "text/plain": [
       "0.3665061385543256"
      ]
     },
     "execution_count": 51,
     "metadata": {},
     "output_type": "execute_result"
    }
   ],
   "source": [
    "model.fit(x_train, y_train, eval_set=[(x_test, y_test)], eval_metric='mae', \n",
    "            early_stopping_rounds=15, verbose=False)\n",
    "ypred = model.predict(x_test)\n",
    "metrics.mean_absolute_error(y_test, ypred)"
   ]
  },
  {
   "cell_type": "code",
   "execution_count": 52,
   "id": "d9eca999-f969-49cb-992d-f171fb8c1c09",
   "metadata": {},
   "outputs": [
    {
     "name": "stdout",
     "output_type": "stream",
     "text": [
      "[(0, 17), (1, 20), (2, 40), (3, 45), (4, 50), (5, 55)]\n"
     ]
    }
   ],
   "source": [
    "print(list(enumerate(le.classes_)))"
   ]
  },
  {
   "cell_type": "code",
   "execution_count": 44,
   "id": "9c9193b2-4a78-46c3-9509-e2c0b3f88f21",
   "metadata": {},
   "outputs": [
    {
     "data": {
      "image/png": "[encoded data removed]",
      "text/plain": [
       "<Figure size 640x480 with 1 Axes>"
      ]
     },
     "metadata": {},
     "output_type": "display_data"
    }
   ],
   "source": []
  },
  {
   "cell_type": "code",
   "execution_count": null,
   "id": "59238e8d-c41a-493a-9b3f-211c20332b25",
   "metadata": {},
   "outputs": [],
   "source": []
  }
 ],
 "metadata": {
  "kernelspec": {
   "display_name": "Python 3 (ipykernel)",
   "language": "python",
   "name": "python3"
  },
  "language_info": {
   "codemirror_mode": {
    "name": "ipython",
    "version": 3
   },
   "file_extension": ".py",
   "mimetype": "text/x-python",
   "name": "python",
   "nbconvert_exporter": "python",
   "pygments_lexer": "ipython3",
   "version": "3.11.7"
  }
 },
 "nbformat": 4,
 "nbformat_minor": 5
}
