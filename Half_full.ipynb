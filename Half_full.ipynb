{
 "cells": [
  {
   "cell_type": "code",
   "execution_count": 1,
   "id": "30bac8ab-c35d-4379-8671-e87f6831450f",
   "metadata": {},
   "outputs": [
    {
     "ename": "ModuleNotFoundError",
     "evalue": "No module named 'pandas'",
     "output_type": "error",
     "traceback": [
      "\u001b[1;31m---------------------------------------------------------------------------\u001b[0m",
      "\u001b[1;31mModuleNotFoundError\u001b[0m                       Traceback (most recent call last)",
      "Cell \u001b[1;32mIn[1], line 3\u001b[0m\n\u001b[0;32m      1\u001b[0m \u001b[38;5;28;01mimport\u001b[39;00m \u001b[38;5;21;01mmath\u001b[39;00m\n\u001b[0;32m      2\u001b[0m \u001b[38;5;28;01mimport\u001b[39;00m \u001b[38;5;21;01mnumpy\u001b[39;00m \u001b[38;5;28;01mas\u001b[39;00m \u001b[38;5;21;01mnp\u001b[39;00m\n\u001b[1;32m----> 3\u001b[0m \u001b[38;5;28;01mimport\u001b[39;00m \u001b[38;5;21;01mpandas\u001b[39;00m \u001b[38;5;28;01mas\u001b[39;00m \u001b[38;5;21;01mpd\u001b[39;00m\n\u001b[0;32m      4\u001b[0m \u001b[38;5;28;01mimport\u001b[39;00m \u001b[38;5;21;01mmatplotlib\u001b[39;00m\u001b[38;5;21;01m.\u001b[39;00m\u001b[38;5;21;01mpyplot\u001b[39;00m \u001b[38;5;28;01mas\u001b[39;00m \u001b[38;5;21;01mplt\u001b[39;00m\n\u001b[0;32m      5\u001b[0m \u001b[38;5;28;01mimport\u001b[39;00m \u001b[38;5;21;01mseaborn\u001b[39;00m \u001b[38;5;28;01mas\u001b[39;00m \u001b[38;5;21;01msns\u001b[39;00m\n",
      "\u001b[1;31mModuleNotFoundError\u001b[0m: No module named 'pandas'"
     ]
    }
   ],
   "source": [
    "import math\n",
    "import numpy as np\n",
    "import pandas as pd\n",
    "import matplotlib.pyplot as plt\n",
    "import seaborn as sns\n",
    "import xgboost as xgb\n",
    "from sklearn.model_selection import train_test_split\n",
    "from sklearn.preprocessing import LabelEncoder\n",
    "from sklearn.ensemble import RandomForestRegressor\n",
    "from sklearn.linear_model import LinearRegression\n",
    "from sklearn import metrics\n"
   ]
  },
  {
   "cell_type": "code",
   "execution_count": null,
   "id": "e0faaf81",
   "metadata": {},
   "outputs": [],
   "source": []
  },
  {
   "cell_type": "code",
   "execution_count": null,
   "id": "d453f150",
   "metadata": {},
   "outputs": [],
   "source": []
  },
  {
   "cell_type": "code",
   "execution_count": null,
   "id": "45ca0393-23a4-4f9b-b740-f608343867e3",
   "metadata": {},
   "outputs": [],
   "source": [
    "races = pd.read_csv('all_races.csv', nrows = 10000)\n",
    "races.head()"
   ]
  },
  {
   "cell_type": "code",
   "execution_count": null,
   "id": "7be52919-b749-443e-939d-84138b03cee6",
   "metadata": {},
   "outputs": [],
   "source": [
    "def clean_data(df):\n",
    "    # fix one missing net time\n",
    "    flt = (df.place==1)&(df.event=='family-race')&(df.event_year==2015)\n",
    "    df.loc[flt, 'net_time'] = df[flt].official_time\n",
    "    df.official_time = pd.to_timedelta(df.official_time)\n",
    "    # many cases of missing net time\n",
    "    df.net_time = np.where(df.net_time=='-', np.nan, df.net_time)\n",
    "    df.net_time = pd.to_timedelta(df.net_time)\n",
    "    # extract the date\n",
    "    df['birth_year'] = df['birth_date'].str[6:].astype(int)\n",
    "    return df\n",
    "    \n",
    "def input_missing_event_net_time(df):\n",
    "    # if the runner is on top10, set missing net time equal to the official time\n",
    "    df.net_time = np.where((df.net_time.isnull())&(df.place <= 10), \n",
    "                            df.official_time, df.net_time)\n",
    "    df['delay_time'] = df['official_time'].dt.seconds - df['net_time'].dt.seconds\n",
    "    df['delay_time_mean'] = df.delay_time.rolling(window=10, min_periods=5).mean()\n",
    "    df['net_time_mean_sec'] = df['official_time'].dt.seconds - df['delay_time_mean']\n",
    "    df['net_time'] = np.where(df.net_time.isnull(),\n",
    "                            pd.to_timedelta(df.net_time_mean_sec, unit='s'), \n",
    "                            df.net_time)\n",
    "    df = df.drop(['net_time_mean_sec','delay_time_mean','delay_time'], axis=1)\n",
    "    assert not (df.official_time < df.net_time).any() \n",
    "    assert not df.net_time.isnull().any() \n",
    "    return df\n",
    "\n",
    "def add_features(df):\n",
    "    df['pace'] = df.net_time / df.distance\n",
    "    return df"
   ]
  },
  {
   "cell_type": "code",
   "execution_count": null,
   "id": "d01af11f-839e-4e4e-8abb-e083f205c962",
   "metadata": {},
   "outputs": [],
   "source": [
    "races = clean_data(races)\n",
    "races = races.groupby(['event','event_year']).apply(input_missing_event_net_time)\n",
    "races = add_features(races)"
   ]
  },
  {
   "cell_type": "code",
   "execution_count": null,
   "id": "f57123d8-5cee-466c-9ce4-257a030e40af",
   "metadata": {},
   "outputs": [],
   "source": [
    "# using combination of name and birth date to identify unique runners\n",
    "races['birth_date_name'] = races['birth_date'] + '_' + races['name']\n"
   ]
  },
  {
   "cell_type": "code",
   "execution_count": null,
   "id": "4e86ca04-af8a-40b2-92e1-e491782ba579",
   "metadata": {},
   "outputs": [],
   "source": [
    "years = set(races[races.event=='maratona'].event_year.unique()) & \\\n",
    "set(races[races.event=='meia_maratona'].event_year.unique())\n",
    "years"
   ]
  },
  {
   "cell_type": "code",
   "execution_count": null,
   "id": "77c4bda2-553c-415f-aacf-a7f4a721d40d",
   "metadata": {},
   "outputs": [],
   "source": [
    "races_train = pd.DataFrame()\n",
    "for year in years:\n",
    "    marathon_runners = races[(races.event_year==year)&(races.event=='maratona')].birth_date_name\n",
    "    half_events = races[(races.event_year==year)&(races.event=='meia_maratona')&(\n",
    "                        races.birth_date_name.isin(marathon_runners))]\n",
    "    half_and_marathon_runners = half_events.birth_date_name.values\n",
    "    races_train = races_train.append(races[(races.event_year==year)&(\n",
    "                                    races.event.isin(['maratona','meia_maratona']))&(\n",
    "                                    races.birth_date_name.isin(half_and_marathon_runners))])"
   ]
  },
  {
   "cell_type": "code",
   "execution_count": null,
   "id": "cbfc3faf-25e6-4fec-a684-28c3f0ebe2e4",
   "metadata": {},
   "outputs": [],
   "source": []
  },
  {
   "cell_type": "code",
   "execution_count": null,
   "id": "d428cbc0-aadb-41bb-8746-26ab90faf543",
   "metadata": {},
   "outputs": [],
   "source": []
  },
  {
   "cell_type": "code",
   "execution_count": null,
   "id": "addd3648-935f-4741-92fd-ccb029b4459e",
   "metadata": {},
   "outputs": [],
   "source": []
  }
 ],
 "metadata": {
  "kernelspec": {
   "display_name": "Python 3 (ipykernel)",
   "language": "python",
   "name": "python3"
  },
  "language_info": {
   "codemirror_mode": {
    "name": "ipython",
    "version": 3
   },
   "file_extension": ".py",
   "mimetype": "text/x-python",
   "name": "python",
   "nbconvert_exporter": "python",
   "pygments_lexer": "ipython3",
   "version": "3.12.2"
  }
 },
 "nbformat": 4,
 "nbformat_minor": 5
}
